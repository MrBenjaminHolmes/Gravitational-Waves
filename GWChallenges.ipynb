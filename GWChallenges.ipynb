{
  "nbformat": 4,
  "nbformat_minor": 0,
  "metadata": {
    "colab": {
      "provenance": [],
      "authorship_tag": "ABX9TyOs2IXOZUZDT7IsLnkuQ30L",
      "include_colab_link": true
    },
    "kernelspec": {
      "name": "python3",
      "display_name": "Python 3"
    },
    "language_info": {
      "name": "python"
    }
  },
  "cells": [
    {
      "cell_type": "markdown",
      "metadata": {
        "id": "view-in-github",
        "colab_type": "text"
      },
      "source": [
        "<a href=\"https://colab.research.google.com/github/MrBenjaminHolmes/Gravitational-Waves/blob/main/GWChallenges.ipynb\" target=\"_parent\"><img src=\"https://colab.research.google.com/assets/colab-badge.svg\" alt=\"Open In Colab\"/></a>"
      ]
    },
    {
      "cell_type": "markdown",
      "source": [
        "#Gravitational Wave Open Data Challenges"
      ],
      "metadata": {
        "id": "6nYPeuezo9Tk"
      }
    },
    {
      "cell_type": "markdown",
      "source": [
        "# Challenge 1"
      ],
      "metadata": {
        "id": "-nnYjPQ9pKPj"
      }
    },
    {
      "cell_type": "markdown",
      "source": [
        "\n",
        "Identify a loud binary black hole signal in white, Gaussian noise.\n",
        "\n",
        "* Use the data file `challenge1.gwf`. The channel name is `H1:CHALLENGE1`.\n",
        "* The data are white, Gaussian noise containing a simulated BBH signal.\n",
        "\n",
        "1. Load the data into memory. What are the sampling rate and duration of the data?\n",
        "2. Plot the data in the time-domain.\n",
        "3. Plot a spectrogram (or q-transform) of the data, and try to identify the signal.\n",
        "4. What is the time of the merger?\n"
      ],
      "metadata": {
        "id": "ozDUMv9PpXCY"
      }
    },
    {
      "cell_type": "code",
      "execution_count": null,
      "metadata": {
        "id": "HS_6UP-yo81Q"
      },
      "outputs": [],
      "source": []
    }
  ]
}