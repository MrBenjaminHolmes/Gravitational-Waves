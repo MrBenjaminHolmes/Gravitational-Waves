{
  "nbformat": 4,
  "nbformat_minor": 0,
  "metadata": {
    "colab": {
      "provenance": [],
      "authorship_tag": "ABX9TyOES6EENLkzFLkDfzi/eJ23",
      "include_colab_link": true
    },
    "kernelspec": {
      "name": "python3",
      "display_name": "Python 3"
    },
    "language_info": {
      "name": "python"
    }
  },
  "cells": [
    {
      "cell_type": "markdown",
      "metadata": {
        "id": "view-in-github",
        "colab_type": "text"
      },
      "source": [
        "<a href=\"https://colab.research.google.com/github/MrBenjaminHolmes/Gravitational-Waves/blob/main/GWpy.ipynb\" target=\"_parent\"><img src=\"https://colab.research.google.com/assets/colab-badge.svg\" alt=\"Open In Colab\"/></a>"
      ]
    },
    {
      "cell_type": "markdown",
      "source": [
        "# Gravitational Wave Open Data Scripts"
      ],
      "metadata": {
        "id": "OFgztt3L2qzF"
      }
    },
    {
      "cell_type": "markdown",
      "source": [
        "##Initialization"
      ],
      "metadata": {
        "id": "73HVuLz-2xf7"
      }
    },
    {
      "cell_type": "code",
      "source": [
        "!pip install -q gwpy==3.0.12"
      ],
      "metadata": {
        "id": "FaSV-FhK2Vpl",
        "collapsed": true
      },
      "execution_count": 1,
      "outputs": []
    },
    {
      "cell_type": "code",
      "source": [
        "! pip install -q PyCBC==2.4.1 lalsuite==7.25"
      ],
      "metadata": {
        "collapsed": true,
        "id": "LjWHfUupVzUK"
      },
      "execution_count": 2,
      "outputs": []
    },
    {
      "cell_type": "code",
      "source": [
        "import warnings\n",
        "warnings.filterwarnings(\"ignore\", \"Wswiglal-redir-stdio\")\n",
        "import gwpy\n",
        "from gwosc.datasets import event_gps\n",
        "from gwpy.timeseries import TimeSeries\n",
        "import pycbc.noise\n",
        "import pycbc.psd\n",
        "from pycbc.types import TimeSeries\n",
        "import numpy\n",
        "import matplotlib.pyplot as plt\n",
        "import pycbc\n",
        "from pycbc.waveform import td_approximants, fd_approximants, get_td_waveform\n"
      ],
      "metadata": {
        "id": "D_g7IbrW26Fo"
      },
      "execution_count": 3,
      "outputs": []
    },
    {
      "cell_type": "markdown",
      "source": [
        "##Noise Comparison 1.1"
      ],
      "metadata": {
        "id": "if5j741Z2_q4"
      }
    },
    {
      "cell_type": "code",
      "source": [
        "#--GW190412 Data-#\n",
        "gw19 = event_gps('GW190412')\n",
        "gw19Data = TimeSeries.fetch_open_data('L1', int(gw19)-512, int(gw19)+512, cache=True)\n",
        "gw19ASD = gw19Data.asd(fftlength=4, method=\"median\")\n",
        "\n",
        "#--GW150914 Data-#\n",
        "gw15 = event_gps('GW150914')\n",
        "gw15Data = TimeSeries.fetch_open_data('L1', int(gw15)-512, int(gw15)+512, cache=True)\n",
        "gw15ASD = gw15Data.asd(fftlength=4, method=\"median\")\n",
        "\n",
        "plt.loglog(gw19ASD, label = 'GW190412')\n",
        "plt.loglog(gw15ASD,label = 'GW150914')\n",
        "plt.legend()\n",
        "\n",
        "plt.show()"
      ],
      "metadata": {
        "id": "2Dtv5V-A2UTS",
        "colab": {
          "base_uri": "https://localhost:8080/",
          "height": 221
        },
        "outputId": "4d988a15-74d2-4770-9513-bf1cfce4de1e"
      },
      "execution_count": 4,
      "outputs": [
        {
          "output_type": "error",
          "ename": "AttributeError",
          "evalue": "type object 'TimeSeries' has no attribute 'fetch_open_data'",
          "traceback": [
            "\u001b[0;31m---------------------------------------------------------------------------\u001b[0m",
            "\u001b[0;31mAttributeError\u001b[0m                            Traceback (most recent call last)",
            "\u001b[0;32m/tmp/ipython-input-838759869.py\u001b[0m in \u001b[0;36m<cell line: 0>\u001b[0;34m()\u001b[0m\n\u001b[1;32m      1\u001b[0m \u001b[0;31m#--GW190412 Data-#\u001b[0m\u001b[0;34m\u001b[0m\u001b[0;34m\u001b[0m\u001b[0m\n\u001b[1;32m      2\u001b[0m \u001b[0mgw19\u001b[0m \u001b[0;34m=\u001b[0m \u001b[0mevent_gps\u001b[0m\u001b[0;34m(\u001b[0m\u001b[0;34m'GW190412'\u001b[0m\u001b[0;34m)\u001b[0m\u001b[0;34m\u001b[0m\u001b[0;34m\u001b[0m\u001b[0m\n\u001b[0;32m----> 3\u001b[0;31m \u001b[0mgw19Data\u001b[0m \u001b[0;34m=\u001b[0m \u001b[0mTimeSeries\u001b[0m\u001b[0;34m.\u001b[0m\u001b[0mfetch_open_data\u001b[0m\u001b[0;34m(\u001b[0m\u001b[0;34m'L1'\u001b[0m\u001b[0;34m,\u001b[0m \u001b[0mint\u001b[0m\u001b[0;34m(\u001b[0m\u001b[0mgw19\u001b[0m\u001b[0;34m)\u001b[0m\u001b[0;34m-\u001b[0m\u001b[0;36m512\u001b[0m\u001b[0;34m,\u001b[0m \u001b[0mint\u001b[0m\u001b[0;34m(\u001b[0m\u001b[0mgw19\u001b[0m\u001b[0;34m)\u001b[0m\u001b[0;34m+\u001b[0m\u001b[0;36m512\u001b[0m\u001b[0;34m,\u001b[0m \u001b[0mcache\u001b[0m\u001b[0;34m=\u001b[0m\u001b[0;32mTrue\u001b[0m\u001b[0;34m)\u001b[0m\u001b[0;34m\u001b[0m\u001b[0;34m\u001b[0m\u001b[0m\n\u001b[0m\u001b[1;32m      4\u001b[0m \u001b[0mgw19ASD\u001b[0m \u001b[0;34m=\u001b[0m \u001b[0mgw19Data\u001b[0m\u001b[0;34m.\u001b[0m\u001b[0masd\u001b[0m\u001b[0;34m(\u001b[0m\u001b[0mfftlength\u001b[0m\u001b[0;34m=\u001b[0m\u001b[0;36m4\u001b[0m\u001b[0;34m,\u001b[0m \u001b[0mmethod\u001b[0m\u001b[0;34m=\u001b[0m\u001b[0;34m\"median\"\u001b[0m\u001b[0;34m)\u001b[0m\u001b[0;34m\u001b[0m\u001b[0;34m\u001b[0m\u001b[0m\n\u001b[1;32m      5\u001b[0m \u001b[0;34m\u001b[0m\u001b[0m\n",
            "\u001b[0;31mAttributeError\u001b[0m: type object 'TimeSeries' has no attribute 'fetch_open_data'"
          ]
        }
      ]
    },
    {
      "cell_type": "markdown",
      "source": [
        "##Spectogram 1.2"
      ],
      "metadata": {
        "id": "MdvBfM0U3PB9"
      }
    },
    {
      "cell_type": "code",
      "source": [
        "gps = event_gps(\"GW170817\")\n",
        "ldata = TimeSeries.fetch_open_data(\"L1\", gps - 300, gps + 300, cache=True)\n",
        "specgram = ldata.spectrogram2(fftlength=4, overlap=2, window='hann') ** (0.5)\n",
        "plot = specgram.plot();\n",
        "\n",
        "ax = plot.gca()\n",
        "ax.set_yscale('log')\n",
        "ax.set_ylim(10, 1400)\n",
        "ax.colorbar(\n",
        "    clim=(1e-24, 1e-20),\n",
        "    norm=\"log\",\n",
        "    label=r\"Strain noise [$1/\\sqrt{\\mathrm{Hz}}$]\",\n",
        ")"
      ],
      "metadata": {
        "id": "ZmwMhFEI3SNB"
      },
      "execution_count": null,
      "outputs": []
    },
    {
      "cell_type": "markdown",
      "source": [
        "##Q-Transform 1.3"
      ],
      "metadata": {
        "id": "hUQPkFVN3TKk"
      }
    },
    {
      "cell_type": "code",
      "source": [
        "gps = event_gps(\"GW170814\")\n",
        "segment = (int(gps) - 5, int(gps) + 2)\n",
        "hData = TimeSeries.fetch_open_data('H1', *segment, verbose=True, cache=True)\n",
        "lData = TimeSeries.fetch_open_data('L1', *segment, verbose=True, cache=True)\n",
        "vData = TimeSeries.fetch_open_data('V1', *segment, verbose=True, cache=True)\n",
        "\n",
        "hq = hData.q_transform(frange=(30, 400), qrange=(4, 20), outseg=(gps-0.2, gps+0.2))\n",
        "lq = lData.q_transform(frange=(30, 400), qrange=(4, 20), outseg=(gps-0.2, gps+0.2))\n",
        "vq = vData.q_transform(frange=(30, 400), qrange=(4, 20), outseg=(gps-0.2, gps+0.2))\n",
        "\n",
        "hq_plot = hq.abs()**0.5\n",
        "lq_plot = lq.abs()**0.5\n",
        "vq_plot = vq.abs()**0.5\n",
        "\n",
        "#-----------Graphing Data-----------#\n",
        "fig, ax = plt.subplots(ncols=3, figsize=(15, 5), sharey=True)\n",
        "\n",
        "xt_h = hq_plot.times.value - gps\n",
        "xt_l = lq_plot.times.value - gps\n",
        "xt_v = vq_plot.times.value - gps\n",
        "\n",
        "im0 = ax[0].pcolormesh(xt_h, hq_plot.frequencies.value, hq_plot.value.T, vmin=1, vmax=5)\n",
        "im1 = ax[1].pcolormesh(xt_l, lq_plot.frequencies.value, lq_plot.value.T, vmin=1, vmax=5)\n",
        "im2 = ax[2].pcolormesh(xt_v, vq_plot.frequencies.value, vq_plot.value.T, vmin=1, vmax=5)\n",
        "\n",
        "# Axis formatting\n",
        "ax[0].set_title('H1')\n",
        "ax[1].set_title('L1')\n",
        "ax[2].set_title('V1')\n",
        "\n",
        "ax[1].set_xlabel(\"Time [s]\")\n",
        "\n",
        "for a in ax:\n",
        "    a.set_yscale('log')\n",
        "\n",
        "ax[0].set_ylabel('Frequency [Hz]')\n",
        "\n",
        "\n",
        "cbar = fig.colorbar(im2, ax=ax[2], pad=0.02)\n",
        "cbar.set_label('Normalized energy')\n",
        "\n",
        "fig.subplots_adjust(wspace=0.05)\n",
        "plt.suptitle(\"Q-Transforms of GW170814 (H1, L1, V1)\", fontsize=14)\n",
        "plt.show()\n",
        "#---------------------------------------#"
      ],
      "metadata": {
        "id": "cfam_6ay3VhN"
      },
      "execution_count": null,
      "outputs": []
    },
    {
      "cell_type": "markdown",
      "source": [
        "##Strain VS Mass 1.4"
      ],
      "metadata": {
        "id": "YgXa1Gc8Vl8H"
      }
    },
    {
      "cell_type": "code",
      "source": [
        "plt.figure(figsize=(10, 6))\n",
        "for m in [5, 10, 30, 100]:\n",
        "    hp, hc = get_td_waveform(approximant=\"IMRPhenomD\",\n",
        "                         mass1=m,\n",
        "                         mass2=m,\n",
        "                         delta_t=1.0/4096,\n",
        "                         f_lower=30)\n",
        "\n",
        "    plt.plot(hp.sample_times, hp, label='$M_{\\odot 1,2}=%s$' % m)\n",
        "plt.legend()\n",
        "plt.grid(True)\n",
        "plt.tight_layout()\n",
        "plt.xlabel('Time (s)')\n",
        "plt.ylabel('Strain')\n",
        "plt.show()"
      ],
      "metadata": {
        "id": "bNorxAbpVsI7"
      },
      "execution_count": null,
      "outputs": []
    },
    {
      "cell_type": "markdown",
      "source": [
        "##Waveform Generation 1.5\n",
        "Generating a waveform for the binary neutron star merger GW170817"
      ],
      "metadata": {
        "id": "gFbvsAiNxXjx"
      }
    },
    {
      "cell_type": "markdown",
      "source": [
        "|  Data  | Value |\n",
        "| ------------- | ------------- |\n",
        "| Mass 1  (☉)|  1.46 |\n",
        "| Mass 2 (☉)|  1.27 |\n",
        "| Distance (Mpc) |  40 |\n"
      ],
      "metadata": {
        "id": "kmEYOvtKxFLk"
      }
    },
    {
      "cell_type": "code",
      "source": [
        "plt.figure(figsize=(10, 6))\n",
        "hp,hc = get_td_waveform(approximant=\"IMRPhenomD\",\n",
        "                         mass1=1.46,\n",
        "                         mass2=1.27,\n",
        "                         delta_t=1.0/4096,\n",
        "                         f_lower=30,\n",
        "                        distance = 40\n",
        "                        )\n",
        "plt.plot(hp.sample_times, hp, label='Plus Polarization (hp)')\n",
        "plt.plot(hc.sample_times, hc, label='Cross Polarization (hc)')\n",
        "plt.legend()\n",
        "plt.grid(True)\n",
        "plt.xlabel('Time (s)')\n",
        "plt.ylabel('Strain')\n",
        "plt.show()\n",
        "\n",
        "plt.plot(hp.sample_times, hp, label='Plus Polarization (hp)')\n",
        "plt.plot(hc.sample_times, hc, label='Cross Polarization (hc)')\n",
        "plt.legend()\n",
        "plt.grid(True)\n",
        "plt.xlim(-0.05,0)\n",
        "plt.xlabel('Time (s)')\n",
        "plt.ylabel('Strain')\n",
        "plt.show()"
      ],
      "metadata": {
        "id": "PgrxJfb6zDHA"
      },
      "execution_count": null,
      "outputs": []
    },
    {
      "cell_type": "markdown",
      "source": [
        "##Matched Filtering 1.6"
      ],
      "metadata": {
        "id": "8adZK0wHb74S"
      }
    },
    {
      "cell_type": "code",
      "source": [
        "sample_rate = 1024\n",
        "data_length = 1024\n",
        "\n",
        "# Generate a PSD\n",
        "flow = 10.0\n",
        "delta_f = 1.0 / 128\n",
        "flen = int(sample_rate / (2 * delta_f)) + 1\n",
        "psd = pycbc.psd.aLIGOZeroDetHighPower(flen, delta_f, flow)\n",
        "\n",
        "# Generate noise based on the PSD\n",
        "delta_t = 1.0 / sample_rate\n",
        "ts = pycbc.noise.noise_from_psd(data_length*sample_rate, delta_t, psd, seed=1)\n",
        "\n",
        "# Inject the Waveform\n",
        "ts[waveform_start:waveform_start+len(hp1)] += hp1.numpy() * 1E-20\n",
        "\n",
        "\n",
        "flow = 10.0\n",
        "delta_f = 1.0 / data_length\n",
        "flen = int(sample_rate / (2 * delta_f)) + 1\n",
        "psd_td = pycbc.psd.aLIGOZeroDetHighPower(flen, delta_f, 0)\n",
        "\n",
        "\n",
        "delta_f = sample_rate / float(len(hp1))\n",
        "flen = int(sample_rate / (2 * delta_f)) + 1\n",
        "psd_hp1 = pycbc.psd.aLIGOZeroDetHighPower(flen, delta_f, 0)\n",
        "\n",
        "# Avoid NaNs and 0 Division\n",
        "psd_td[0] = psd_td[1]\n",
        "psd_td[len(psd_td) - 1] = psd_td[len(psd_td) - 2]\n",
        "psd_hp1[0] = psd_hp1[1]\n",
        "psd_hp1[len(psd_hp1) - 1] = psd_hp1[len(psd_hp1) - 2]\n",
        "\n",
        "#Whittening\n",
        "data_whitened = (ts.to_frequencyseries() / psd_td**0.5).to_timeseries()\n",
        "hp1_whitened = (hp1.to_frequencyseries() / psd_hp1**0.5).to_timeseries() * 1E-21\n",
        "\n",
        "cross_correlation = numpy.zeros([len(data)-len(hp1)])\n",
        "hp1n = hp1_whitened.numpy()\n",
        "datan = data_whitened.numpy()\n",
        "#Slide Template over Each Sample\n",
        "for i in range(len(datan) - len(hp1n)):\n",
        "    cross_correlation[i] = (hp1n * datan[i:i+len(hp1n)]).sum()\n",
        "\n",
        "# Plotting\n",
        "plt.figure()\n",
        "times = numpy.arange(len(datan) - len(hp1n)) / float(sample_rate)\n",
        "plt.plot(times, cross_correlation)\n",
        "plt.plot([waveform_start/float(sample_rate), waveform_start/float(sample_rate)],\n",
        "           [(min(cross_correlation))*1.1,(max(cross_correlation))*1.1],'r:')\n",
        "plt.xlabel('Time (s)')\n",
        "plt.ylabel('Cross-correlation')\n",
        "plt.show()"
      ],
      "metadata": {
        "id": "2WycryQtxEzC"
      },
      "execution_count": null,
      "outputs": []
    },
    {
      "cell_type": "markdown",
      "source": [
        "###Checking Normality: Mean and Standard Deviation of Whitened Data\n",
        "Histogram the whitened time series. Ignoring the outliers associated with the signal, is it a Gaussian? What is the mean and standard deviation?"
      ],
      "metadata": {
        "id": "ldRl-gmkbv_H"
      }
    },
    {
      "cell_type": "code",
      "source": [
        "plt.hist(data_whitened,bins=120)\n",
        "print(\"Standard Deviation:\", numpy.std(data_whitened))"
      ],
      "metadata": {
        "id": "yCQfLnup0m48"
      },
      "execution_count": null,
      "outputs": []
    },
    {
      "cell_type": "markdown",
      "source": [
        "Histogram the above cross-correlation time series. Ignoring the outliers associated with the signal, is it a Gaussian? What is the mean and standard deviation?"
      ],
      "metadata": {
        "id": "2gqd6VrWhyBC"
      }
    },
    {
      "cell_type": "code",
      "source": [
        "plt.hist(cross_correlation,bins=70)\n",
        "print(\"Standard Deviation:\", numpy.std(cross_correlation))"
      ],
      "metadata": {
        "id": "NgDceFR60zKO"
      },
      "execution_count": null,
      "outputs": []
    }
  ]
}