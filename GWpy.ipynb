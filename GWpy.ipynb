{
  "nbformat": 4,
  "nbformat_minor": 0,
  "metadata": {
    "colab": {
      "provenance": [],
      "authorship_tag": "ABX9TyO1IKg+wifsQY+dQWt2MnMD",
      "include_colab_link": true
    },
    "kernelspec": {
      "name": "python3",
      "display_name": "Python 3"
    },
    "language_info": {
      "name": "python"
    }
  },
  "cells": [
    {
      "cell_type": "markdown",
      "metadata": {
        "id": "view-in-github",
        "colab_type": "text"
      },
      "source": [
        "<a href=\"https://colab.research.google.com/github/MrBenjaminHolmes/Gravitational-Waves/blob/main/GWpy.ipynb\" target=\"_parent\"><img src=\"https://colab.research.google.com/assets/colab-badge.svg\" alt=\"Open In Colab\"/></a>"
      ]
    },
    {
      "cell_type": "markdown",
      "source": [
        "# Gravitational Wave Open Data Scripts"
      ],
      "metadata": {
        "id": "OFgztt3L2qzF"
      }
    },
    {
      "cell_type": "markdown",
      "source": [
        "##Initialization"
      ],
      "metadata": {
        "id": "73HVuLz-2xf7"
      }
    },
    {
      "cell_type": "code",
      "source": [
        "!pip install -q gwpy==3.0.12"
      ],
      "metadata": {
        "id": "FaSV-FhK2Vpl",
        "collapsed": true,
        "colab": {
          "base_uri": "https://localhost:8080/"
        },
        "outputId": "ad7fd267-1fda-4c60-e02e-f052f29d4b44"
      },
      "execution_count": 1,
      "outputs": [
        {
          "output_type": "stream",
          "name": "stdout",
          "text": [
            "\u001b[?25l   \u001b[90m━━━━━━━━━━━━━━━━━━━━━━━━━━━━━━━━━━━━━━━━\u001b[0m \u001b[32m0.0/1.4 MB\u001b[0m \u001b[31m?\u001b[0m eta \u001b[36m-:--:--\u001b[0m\r\u001b[2K   \u001b[90m━━━━━━━━━━━━━━━━━━━━━━━━━━━━━━━━━━━━━━━━\u001b[0m \u001b[32m1.4/1.4 MB\u001b[0m \u001b[31m63.3 MB/s\u001b[0m eta \u001b[36m0:00:00\u001b[0m\n",
            "\u001b[?25h\u001b[?25l   \u001b[90m━━━━━━━━━━━━━━━━━━━━━━━━━━━━━━━━━━━━━━━━\u001b[0m \u001b[32m0.0/315.5 kB\u001b[0m \u001b[31m?\u001b[0m eta \u001b[36m-:--:--\u001b[0m\r\u001b[2K   \u001b[90m━━━━━━━━━━━━━━━━━━━━━━━━━━━━━━━━━━━━━━━━\u001b[0m \u001b[32m315.5/315.5 kB\u001b[0m \u001b[31m21.7 MB/s\u001b[0m eta \u001b[36m0:00:00\u001b[0m\n",
            "\u001b[?25h\u001b[?25l   \u001b[90m━━━━━━━━━━━━━━━━━━━━━━━━━━━━━━━━━━━━━━━━\u001b[0m \u001b[32m0.0/43.8 kB\u001b[0m \u001b[31m?\u001b[0m eta \u001b[36m-:--:--\u001b[0m\r\u001b[2K   \u001b[90m━━━━━━━━━━━━━━━━━━━━━━━━━━━━━━━━━━━━━━━━\u001b[0m \u001b[32m43.8/43.8 kB\u001b[0m \u001b[31m3.2 MB/s\u001b[0m eta \u001b[36m0:00:00\u001b[0m\n",
            "\u001b[2K   \u001b[90m━━━━━━━━━━━━━━━━━━━━━━━━━━━━━━━━━━━━━━━━\u001b[0m \u001b[32m128.6/128.6 kB\u001b[0m \u001b[31m11.2 MB/s\u001b[0m eta \u001b[36m0:00:00\u001b[0m\n",
            "\u001b[2K   \u001b[90m━━━━━━━━━━━━━━━━━━━━━━━━━━━━━━━━━━━━━━━━\u001b[0m \u001b[32m4.5/4.5 MB\u001b[0m \u001b[31m100.8 MB/s\u001b[0m eta \u001b[36m0:00:00\u001b[0m\n",
            "\u001b[?25h\u001b[31mERROR: pip's dependency resolver does not currently take into account all the packages that are installed. This behaviour is the source of the following dependency conflicts.\n",
            "pyopenssl 24.2.1 requires cryptography<44,>=41.0.5, but you have cryptography 45.0.5 which is incompatible.\n",
            "pydrive2 1.21.3 requires cryptography<44, but you have cryptography 45.0.5 which is incompatible.\u001b[0m\u001b[31m\n",
            "\u001b[0m"
          ]
        }
      ]
    },
    {
      "cell_type": "code",
      "source": [
        "! pip install -q PyCBC==2.4.1 lalsuite==7.25"
      ],
      "metadata": {
        "collapsed": true,
        "id": "LjWHfUupVzUK",
        "colab": {
          "base_uri": "https://localhost:8080/"
        },
        "outputId": "1464e519-2174-4daa-aecd-3e85adb14305"
      },
      "execution_count": null,
      "outputs": [
        {
          "output_type": "stream",
          "name": "stdout",
          "text": [
            "\u001b[2K     \u001b[90m━━━━━━━━━━━━━━━━━━━━━━━━━━━━━━━━━━━━━━━\u001b[0m \u001b[32m61.0/61.0 kB\u001b[0m \u001b[31m970.6 kB/s\u001b[0m eta \u001b[36m0:00:00\u001b[0m\n",
            "\u001b[2K     \u001b[90m━━━━━━━━━━━━━━━━━━━━━━━━━━━━━━━━━━━━━━━━\u001b[0m \u001b[32m73.9/73.9 kB\u001b[0m \u001b[31m3.4 MB/s\u001b[0m eta \u001b[36m0:00:00\u001b[0m\n",
            "\u001b[?25h  Installing build dependencies ... \u001b[?25l\u001b[?25hdone\n",
            "  Getting requirements to build wheel ... \u001b[?25l\u001b[?25hdone\n",
            "  Preparing metadata (pyproject.toml) ... \u001b[?25l\u001b[?25hdone\n",
            "\u001b[2K     \u001b[90m━━━━━━━━━━━━━━━━━━━━━━━━━━━━━━━━━━━━━━━━\u001b[0m \u001b[32m2.4/2.4 MB\u001b[0m \u001b[31m61.6 MB/s\u001b[0m eta \u001b[36m0:00:00\u001b[0m\n",
            "\u001b[?25h  Preparing metadata (setup.py) ... \u001b[?25l\u001b[?25hdone\n",
            "\u001b[2K     \u001b[90m━━━━━━━━━━━━━━━━━━━━━━━━━━━━━━━━━━━━━━━━\u001b[0m \u001b[32m51.0/51.0 kB\u001b[0m \u001b[31m3.6 MB/s\u001b[0m eta \u001b[36m0:00:00\u001b[0m\n",
            "\u001b[?25h  Preparing metadata (setup.py) ... \u001b[?25l\u001b[?25hdone\n",
            "\u001b[2K     \u001b[90m━━━━━━━━━━━━━━━━━━━━━━━━━━━━━━━━━━━━━━━\u001b[0m \u001b[32m103.2/103.2 kB\u001b[0m \u001b[31m8.7 MB/s\u001b[0m eta \u001b[36m0:00:00\u001b[0m\n",
            "\u001b[?25h  Installing build dependencies ... \u001b[?25l\u001b[?25hdone\n",
            "  Getting requirements to build wheel ... \u001b[?25l\u001b[?25hdone\n",
            "  Preparing metadata (pyproject.toml) ... \u001b[?25l\u001b[?25hdone\n",
            "\u001b[2K   \u001b[90m━━━━━━━━━━━━━━━━━━━━━━━━━━━━━━━━━━━━━━━━\u001b[0m \u001b[32m8.8/8.8 MB\u001b[0m \u001b[31m99.0 MB/s\u001b[0m eta \u001b[36m0:00:00\u001b[0m\n",
            "\u001b[2K   \u001b[90m━━━━━━━━━━━━━━━━━━━━━━━━━━━━━━━━━━━━━━━━\u001b[0m \u001b[32m40.4/40.4 MB\u001b[0m \u001b[31m17.8 MB/s\u001b[0m eta \u001b[36m0:00:00\u001b[0m\n",
            "\u001b[2K   \u001b[90m━━━━━━━━━━━━━━━━━━━━━━━━━━━━━━━━━━━━━━━━\u001b[0m \u001b[32m51.1/51.1 kB\u001b[0m \u001b[31m3.9 MB/s\u001b[0m eta \u001b[36m0:00:00\u001b[0m\n",
            "\u001b[2K   \u001b[90m━━━━━━━━━━━━━━━━━━━━━━━━━━━━━━━━━━━━━━━━\u001b[0m \u001b[32m202.9/202.9 kB\u001b[0m \u001b[31m13.9 MB/s\u001b[0m eta \u001b[36m0:00:00\u001b[0m\n",
            "\u001b[2K   \u001b[90m━━━━━━━━━━━━━━━━━━━━━━━━━━━━━━━━━━━━━━━━\u001b[0m \u001b[32m18.3/18.3 MB\u001b[0m \u001b[31m89.8 MB/s\u001b[0m eta \u001b[36m0:00:00\u001b[0m\n",
            "\u001b[2K   \u001b[90m━━━━━━━━━━━━━━━━━━━━━━━━━━━━━━━━━━━━━━━━\u001b[0m \u001b[32m48.1/48.1 MB\u001b[0m \u001b[31m14.4 MB/s\u001b[0m eta \u001b[36m0:00:00\u001b[0m\n",
            "\u001b[?25h  Building wheel for pegasus-wms.api (pyproject.toml) ... \u001b[?25l\u001b[?25hdone\n",
            "  Building wheel for python-ligo-lw (setup.py) ... \u001b[?25l\u001b[?25hdone\n",
            "  Building wheel for ligo-segments (setup.py) ... \u001b[?25l\u001b[?25hdone\n",
            "  Building wheel for pegasus-wms.common (pyproject.toml) ... \u001b[?25l\u001b[?25hdone\n"
          ]
        }
      ]
    },
    {
      "cell_type": "code",
      "source": [
        "import warnings\n",
        "warnings.filterwarnings(\"ignore\", \"Wswiglal-redir-stdio\")\n",
        "import gwpy\n",
        "from gwosc.datasets import event_gps\n",
        "from gwpy.timeseries import TimeSeries\n",
        "import numpy\n",
        "import matplotlib.pyplot as plt\n",
        "from pycbc.waveform import td_approximants, fd_approximants,get_td_waveform"
      ],
      "metadata": {
        "id": "D_g7IbrW26Fo"
      },
      "execution_count": null,
      "outputs": []
    },
    {
      "cell_type": "markdown",
      "source": [
        "##Noise Comparison 1.1"
      ],
      "metadata": {
        "id": "if5j741Z2_q4"
      }
    },
    {
      "cell_type": "code",
      "source": [
        "#--GW190412 Data-#\n",
        "gw19 = event_gps('GW190412')\n",
        "gw19Data = TimeSeries.fetch_open_data('L1', int(gw19)-512, int(gw19)+512, cache=True)\n",
        "gw19ASD = gw19Data.asd(fftlength=4, method=\"median\")\n",
        "\n",
        "#--GW150914 Data-#\n",
        "gw15 = event_gps('GW150914')\n",
        "gw15Data = TimeSeries.fetch_open_data('L1', int(gw15)-512, int(gw15)+512, cache=True)\n",
        "gw15ASD = gw15Data.asd(fftlength=4, method=\"median\")\n",
        "\n",
        "plt.loglog(gw19ASD, label = 'GW190412')\n",
        "plt.loglog(gw15ASD,label = 'GW150914')\n",
        "plt.legend()\n",
        "\n",
        "plt.show()"
      ],
      "metadata": {
        "id": "2Dtv5V-A2UTS"
      },
      "execution_count": null,
      "outputs": []
    },
    {
      "cell_type": "markdown",
      "source": [
        "##Spectogram 1.2"
      ],
      "metadata": {
        "id": "MdvBfM0U3PB9"
      }
    },
    {
      "cell_type": "code",
      "source": [
        "gps = event_gps(\"GW170817\")\n",
        "ldata = TimeSeries.fetch_open_data(\"L1\", gps - 300, gps + 300, cache=True)\n",
        "specgram = ldata.spectrogram2(fftlength=4, overlap=2, window='hann') ** (0.5)\n",
        "plot = specgram.plot();\n",
        "\n",
        "ax = plot.gca()\n",
        "ax.set_yscale('log')\n",
        "ax.set_ylim(10, 1400)\n",
        "ax.colorbar(\n",
        "    clim=(1e-24, 1e-20),\n",
        "    norm=\"log\",\n",
        "    label=r\"Strain noise [$1/\\sqrt{\\mathrm{Hz}}$]\",\n",
        ")"
      ],
      "metadata": {
        "id": "ZmwMhFEI3SNB"
      },
      "execution_count": null,
      "outputs": []
    },
    {
      "cell_type": "markdown",
      "source": [
        "##Q-Transform 1.3"
      ],
      "metadata": {
        "id": "hUQPkFVN3TKk"
      }
    },
    {
      "cell_type": "code",
      "source": [
        "gps = event_gps(\"GW170814\")\n",
        "segment = (int(gps) - 5, int(gps) + 2)\n",
        "hData = TimeSeries.fetch_open_data('H1', *segment, verbose=True, cache=True)\n",
        "lData = TimeSeries.fetch_open_data('L1', *segment, verbose=True, cache=True)\n",
        "vData = TimeSeries.fetch_open_data('V1', *segment, verbose=True, cache=True)\n",
        "\n",
        "hq = hData.q_transform(frange=(30, 400), qrange=(4, 20), outseg=(gps-0.2, gps+0.2))\n",
        "lq = lData.q_transform(frange=(30, 400), qrange=(4, 20), outseg=(gps-0.2, gps+0.2))\n",
        "vq = vData.q_transform(frange=(30, 400), qrange=(4, 20), outseg=(gps-0.2, gps+0.2))\n",
        "\n",
        "hq_plot = hq.abs()**0.5\n",
        "lq_plot = lq.abs()**0.5\n",
        "vq_plot = vq.abs()**0.5\n",
        "\n",
        "#-----------Graphing Data-----------#\n",
        "fig, ax = plt.subplots(ncols=3, figsize=(15, 5), sharey=True)\n",
        "\n",
        "xt_h = hq_plot.times.value - gps\n",
        "xt_l = lq_plot.times.value - gps\n",
        "xt_v = vq_plot.times.value - gps\n",
        "\n",
        "im0 = ax[0].pcolormesh(xt_h, hq_plot.frequencies.value, hq_plot.value.T, vmin=1, vmax=5)\n",
        "im1 = ax[1].pcolormesh(xt_l, lq_plot.frequencies.value, lq_plot.value.T, vmin=1, vmax=5)\n",
        "im2 = ax[2].pcolormesh(xt_v, vq_plot.frequencies.value, vq_plot.value.T, vmin=1, vmax=5)\n",
        "\n",
        "# Axis formatting\n",
        "ax[0].set_title('H1')\n",
        "ax[1].set_title('L1')\n",
        "ax[2].set_title('V1')\n",
        "\n",
        "ax[1].set_xlabel(\"Time [s]\")\n",
        "\n",
        "for a in ax:\n",
        "    a.set_yscale('log')\n",
        "\n",
        "ax[0].set_ylabel('Frequency [Hz]')\n",
        "\n",
        "\n",
        "cbar = fig.colorbar(im2, ax=ax[2], pad=0.02)\n",
        "cbar.set_label('Normalized energy')\n",
        "\n",
        "fig.subplots_adjust(wspace=0.05)\n",
        "plt.suptitle(\"Q-Transforms of GW170814 (H1, L1, V1)\", fontsize=14)\n",
        "plt.show()\n",
        "#---------------------------------------#"
      ],
      "metadata": {
        "id": "cfam_6ay3VhN"
      },
      "execution_count": null,
      "outputs": []
    },
    {
      "cell_type": "markdown",
      "source": [
        "##Strain VS Mass 1.4"
      ],
      "metadata": {
        "id": "YgXa1Gc8Vl8H"
      }
    },
    {
      "cell_type": "code",
      "source": [
        "plt.figure(figsize=(10, 6))\n",
        "for m in [5, 10, 30, 100]:\n",
        "    hp, hc = get_td_waveform(approximant=\"IMRPhenomD\",\n",
        "                         mass1=m,\n",
        "                         mass2=m,\n",
        "                         delta_t=1.0/4096,\n",
        "                         f_lower=30)\n",
        "\n",
        "    plt.plot(hp.sample_times, hp, label='$M_{\\odot 1,2}=%s$' % m)\n",
        "plt.legend()\n",
        "plt.grid(True)\n",
        "plt.tight_layout()\n",
        "plt.xlabel('Time (s)')\n",
        "plt.ylabel('Strain')\n",
        "plt.show()"
      ],
      "metadata": {
        "id": "bNorxAbpVsI7"
      },
      "execution_count": null,
      "outputs": []
    },
    {
      "cell_type": "markdown",
      "source": [
        "##Waveform Generation 1.5\n",
        "Generating a waveform for the binary neutron star merger GW170817"
      ],
      "metadata": {
        "id": "gFbvsAiNxXjx"
      }
    },
    {
      "cell_type": "markdown",
      "source": [
        "|  Data  | Value |\n",
        "| ------------- | ------------- |\n",
        "| Mass 1  (☉)|  1.46 |\n",
        "| Mass 2 (☉)|  1.27 |\n",
        "| Distance (Mpc) |  40 |\n"
      ],
      "metadata": {
        "id": "kmEYOvtKxFLk"
      }
    },
    {
      "cell_type": "code",
      "source": [
        "plt.figure(figsize=(10, 6))\n",
        "hp,hc = get_td_waveform(approximant=\"IMRPhenomD\",\n",
        "                         mass1=1.46,\n",
        "                         mass2=1.27,\n",
        "                         delta_t=1.0/4096,\n",
        "                         f_lower=30,\n",
        "                        distance = 40\n",
        "                        )\n",
        "plt.plot(hp.sample_times, hp, label='Plus Polarization (hp)')\n",
        "plt.plot(hc.sample_times, hc, label='Cross Polarization (hc)')\n",
        "plt.legend()\n",
        "plt.grid(True)\n",
        "plt.xlabel('Time (s)')\n",
        "plt.ylabel('Strain')\n",
        "plt.show()\n",
        "\n",
        "plt.plot(hp.sample_times, hp, label='Plus Polarization (hp)')\n",
        "plt.plot(hc.sample_times, hc, label='Cross Polarization (hc)')\n",
        "plt.legend()\n",
        "plt.grid(True)\n",
        "plt.xlim(-0.05,0)\n",
        "plt.xlabel('Time (s)')\n",
        "plt.ylabel('Strain')\n",
        "plt.show()"
      ],
      "metadata": {
        "id": "PgrxJfb6zDHA"
      },
      "execution_count": null,
      "outputs": []
    },
    {
      "cell_type": "code",
      "source": [
        "#Define Sample Properties\n",
        "sample_rate = 1024\n",
        "data_length = 1024\n",
        "\n",
        "#Simulate PSD\n",
        "flow = 10.0\n",
        "delta_f = 1.0 / 128\n",
        "flen = int(sample_rate / (2 * delta_f)) + 1\n",
        "psd = pycbc.psd.aLIGOZeroDetHighPower(flen, delta_f, flow)\n",
        "\n",
        "delta_t = 1.0 / sample_rate\n",
        "ts = pycbc.noise.noise_from_psd(data_length*sample_rate, delta_t, psd, seed=127)\n",
        "\n",
        "#Inject Waveform into the noise\n",
        "ts[waveform_start:waveform_start+len(hp1)] += hp1.numpy() * 1E-20\n",
        "\n",
        "# Prepare PSD for whitening the Noise\n",
        "delta_f = 1.0 / data_length\n",
        "flen = int(sample_rate / (2 * delta_f)) + 1\n",
        "psd_td = pycbc.psd.aLIGOZeroDetHighPower(flen, delta_f, 0)\n",
        "\n",
        "# Prepare PSD for whitening the Waveform\n",
        "delta_f = sample_rate / float(len(hp1))\n",
        "flen = int(sample_rate / (2 * delta_f)) + 1\n",
        "psd_hp1 = pycbc.psd.aLIGOZeroDetHighPower(flen, delta_f, 0)\n",
        "\n",
        "# Fix the first and last bins to avoid NaNs and 0 Division\n",
        "psd_td[0] = psd_td[1]\n",
        "psd_td[len(psd_td) - 1] = psd_td[len(psd_td) - 2]\n",
        "\n",
        "psd_hp1[0] = psd_hp1[1]\n",
        "psd_hp1[len(psd_hp1) - 1] = psd_hp1[len(psd_hp1) - 2]\n",
        "\n",
        "\n",
        "data_whitened = (ts.to_frequencyseries() / psd_td**0.5).to_timeseries()\n",
        "hp1_whitened = (hp1.to_frequencyseries() / psd_hp1**0.5).to_timeseries() * 1E-21\n",
        "\n",
        "cross_correlation = numpy.zeros([len(data)-len(hp1)])\n",
        "# Convert Arrays to NumPy Arrays\n",
        "hp1n = hp1_whitened.numpy()\n",
        "datan = data_whitened.numpy()\n",
        "\n",
        "# Slide Template over the waveform and detect correlations\n",
        "for i in range(len(datan) - len(hp1n)):\n",
        "    cross_correlation[i] = (hp1n * datan[i:i+len(hp1n)]).sum()\n",
        "\n",
        "# Plotting\n",
        "plt.figure()\n",
        "times = numpy.arange(len(datan) - len(hp1n)) / float(sample_rate)\n",
        "plt.plot(times, cross_correlation)\n",
        "plt.plot([waveform_start/float(sample_rate), waveform_start/float(sample_rate)],\n",
        "           [(min(cross_correlation))*1.1,(max(cross_correlation))*1.1],'r:')\n",
        "plt.xlabel('Time (s)')\n",
        "plt.ylabel('Cross-correlation')\n",
        "plt.show()"
      ],
      "metadata": {
        "id": "rJxxAGW7SRuu"
      },
      "execution_count": null,
      "outputs": []
    }
  ]
}